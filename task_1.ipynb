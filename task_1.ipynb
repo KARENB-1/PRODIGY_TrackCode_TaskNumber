{
  "nbformat": 4,
  "nbformat_minor": 0,
  "metadata": {
    "colab": {
      "provenance": []
    },
    "kernelspec": {
      "name": "python3",
      "display_name": "Python 3"
    },
    "language_info": {
      "name": "python"
    }
  },
  "cells": [
    {
      "cell_type": "markdown",
      "source": [
        "import neccessary libraries\n"
      ],
      "metadata": {
        "id": "hLlsoAVNHoCV"
      }
    },
    {
      "cell_type": "code",
      "execution_count": null,
      "metadata": {
        "id": "crmx3M-UD0gi"
      },
      "outputs": [],
      "source": [
        "import pandas as pd\n",
        "import numpy as np\n",
        "import matplotlib.pyplot as plt\n",
        "import seaborn as sns\n"
      ]
    },
    {
      "cell_type": "markdown",
      "source": [
        "Reading csv file"
      ],
      "metadata": {
        "id": "9gLVMNtxH9D3"
      }
    },
    {
      "cell_type": "code",
      "source": [
        "df = pd.read_csv('/content/world_population_data.csv')\n"
      ],
      "metadata": {
        "id": "c1bWWBCNEApB"
      },
      "execution_count": null,
      "outputs": []
    },
    {
      "cell_type": "markdown",
      "source": [
        "Checking top 5 rows data"
      ],
      "metadata": {
        "id": "H4-T9XoNH5uS"
      }
    },
    {
      "cell_type": "code",
      "source": [
        "print(df.head())"
      ],
      "metadata": {
        "colab": {
          "base_uri": "https://localhost:8080/"
        },
        "id": "z-mJTCwkE9bT",
        "outputId": "b003c883-2726-4389-a13d-cd4f18b4fd0f"
      },
      "execution_count": null,
      "outputs": [
        {
          "output_type": "stream",
          "name": "stdout",
          "text": [
            "   rank cca3        country      continent  2023 population  2022 population  \\\n",
            "0     1  IND          India           Asia       1428627663       1417173173   \n",
            "1     2  CHN          China           Asia       1425671352       1425887337   \n",
            "2     3  USA  United States  North America        339996563        338289857   \n",
            "3     4  IDN      Indonesia           Asia        277534122        275501339   \n",
            "4     5  PAK       Pakistan           Asia        240485658        235824862   \n",
            "\n",
            "   2020 population  2015 population  2010 population  2000 population  \\\n",
            "0       1396387127       1322866505       1240613620       1059633675   \n",
            "1       1424929781       1393715448       1348191368       1264099069   \n",
            "2        335942003        324607776        311182845        282398554   \n",
            "3        271857970        259091970        244016173        214072421   \n",
            "4        227196741        210969298        194454498        154369924   \n",
            "\n",
            "   1990 population  1980 population  1970 population  area (km²)  \\\n",
            "0        870452165        696828385        557501301   3287590.0   \n",
            "1       1153704252        982372466        822534450   9706961.0   \n",
            "2        248083732        223140018        200328340   9372610.0   \n",
            "3        182159874        148177096        115228394   1904569.0   \n",
            "4        115414069         80624057         59290872    881912.0   \n",
            "\n",
            "   density (km²) growth rate world percentage  \n",
            "0            481       0.81%           17.85%  \n",
            "1            151      -0.02%           17.81%  \n",
            "2             37       0.50%            4.25%  \n",
            "3            148       0.74%            3.47%  \n",
            "4            312       1.98%            3.00%  \n"
          ]
        }
      ]
    },
    {
      "cell_type": "markdown",
      "source": [
        "checking data from bottom"
      ],
      "metadata": {
        "id": "mqLdSHjnIRGB"
      }
    },
    {
      "cell_type": "code",
      "source": [
        "print(df.tail())"
      ],
      "metadata": {
        "colab": {
          "base_uri": "https://localhost:8080/"
        },
        "id": "N9VejpjfEAsg",
        "outputId": "09bae735-7d85-4e6f-9007-8028410b1f1f"
      },
      "execution_count": null,
      "outputs": [
        {
          "output_type": "stream",
          "name": "stdout",
          "text": [
            "     rank cca3           country      continent  2023 population  \\\n",
            "229   230  MSR        Montserrat  North America             4386   \n",
            "230   231  FLK  Falkland Islands  South America             3791   \n",
            "231   232  NIU              Niue        Oceania             1935   \n",
            "232   233  TKL           Tokelau        Oceania             1893   \n",
            "233   234  VAT      Vatican City         Europe              518   \n",
            "\n",
            "     2022 population  2020 population  2015 population  2010 population  \\\n",
            "229             4390             4500             5059             4938   \n",
            "230             3780             3747             3408             3187   \n",
            "231             1934             1942             1847             1812   \n",
            "232             1871             1827             1454             1367   \n",
            "233              510              520              564              596   \n",
            "\n",
            "     2000 population  1990 population  1980 population  1970 population  \\\n",
            "229             5138            10805            11452            11402   \n",
            "230             3080             2332             2240             2274   \n",
            "231             2074             2533             3637             5185   \n",
            "232             1666             1669             1647             1714   \n",
            "233              651              700              733              752   \n",
            "\n",
            "     area (km²)  density (km²) growth rate world percentage  \n",
            "229      102.00             43      -0.09%            0.00%  \n",
            "230    12173.00              0       0.29%            0.00%  \n",
            "231      261.00              7       0.05%            0.00%  \n",
            "232       12.00            189       1.18%            0.00%  \n",
            "233        0.44           1177       1.57%            0.00%  \n"
          ]
        }
      ]
    },
    {
      "cell_type": "markdown",
      "source": [
        "checking for missing values"
      ],
      "metadata": {
        "id": "FaJE4oThIZTd"
      }
    },
    {
      "cell_type": "code",
      "source": [
        "print((df.columns).isnull().sum())"
      ],
      "metadata": {
        "colab": {
          "base_uri": "https://localhost:8080/"
        },
        "id": "9oGIIJe7EA4d",
        "outputId": "24238d78-5640-41f1-8bd8-b16c81f9bd26"
      },
      "execution_count": null,
      "outputs": [
        {
          "output_type": "stream",
          "name": "stdout",
          "text": [
            "0\n"
          ]
        }
      ]
    },
    {
      "cell_type": "markdown",
      "source": [
        "checking the columns of the dataset"
      ],
      "metadata": {
        "id": "oiWmnlSpIZ-f"
      }
    },
    {
      "cell_type": "code",
      "source": [
        "df.columns"
      ],
      "metadata": {
        "colab": {
          "base_uri": "https://localhost:8080/"
        },
        "id": "8yjEyzUqGEi8",
        "outputId": "8e476ce1-2aa9-4640-ea39-8b1290d889ef"
      },
      "execution_count": null,
      "outputs": [
        {
          "output_type": "execute_result",
          "data": {
            "text/plain": [
              "Index(['rank', 'cca3', 'country', 'continent', '2023 population',\n",
              "       '2022 population', '2020 population', '2015 population',\n",
              "       '2010 population', '2000 population', '1990 population',\n",
              "       '1980 population', '1970 population', 'area (km²)', 'density (km²)',\n",
              "       'growth rate', 'world percentage'],\n",
              "      dtype='object')"
            ]
          },
          "metadata": {},
          "execution_count": 35
        }
      ]
    },
    {
      "cell_type": "markdown",
      "source": [
        "Information about the dataset"
      ],
      "metadata": {
        "id": "BgUtBjT9Iln4"
      }
    },
    {
      "cell_type": "code",
      "source": [
        "df.info"
      ],
      "metadata": {
        "colab": {
          "base_uri": "https://localhost:8080/",
          "height": 223
        },
        "id": "UmprMd1PGEmI",
        "outputId": "d1567646-fbcf-4269-fd80-cc150b042732"
      },
      "execution_count": null,
      "outputs": [
        {
          "output_type": "execute_result",
          "data": {
            "text/plain": [
              "<bound method DataFrame.info of      rank cca3           country      continent  2023 population  \\\n",
              "0       1  IND             India           Asia       1428627663   \n",
              "1       2  CHN             China           Asia       1425671352   \n",
              "2       3  USA     United States  North America        339996563   \n",
              "3       4  IDN         Indonesia           Asia        277534122   \n",
              "4       5  PAK          Pakistan           Asia        240485658   \n",
              "..    ...  ...               ...            ...              ...   \n",
              "229   230  MSR        Montserrat  North America             4386   \n",
              "230   231  FLK  Falkland Islands  South America             3791   \n",
              "231   232  NIU              Niue        Oceania             1935   \n",
              "232   233  TKL           Tokelau        Oceania             1893   \n",
              "233   234  VAT      Vatican City         Europe              518   \n",
              "\n",
              "     2022 population  2020 population  2015 population  2010 population  \\\n",
              "0         1417173173       1396387127       1322866505       1240613620   \n",
              "1         1425887337       1424929781       1393715448       1348191368   \n",
              "2          338289857        335942003        324607776        311182845   \n",
              "3          275501339        271857970        259091970        244016173   \n",
              "4          235824862        227196741        210969298        194454498   \n",
              "..               ...              ...              ...              ...   \n",
              "229             4390             4500             5059             4938   \n",
              "230             3780             3747             3408             3187   \n",
              "231             1934             1942             1847             1812   \n",
              "232             1871             1827             1454             1367   \n",
              "233              510              520              564              596   \n",
              "\n",
              "     2000 population  1990 population  1980 population  1970 population  \\\n",
              "0         1059633675        870452165        696828385        557501301   \n",
              "1         1264099069       1153704252        982372466        822534450   \n",
              "2          282398554        248083732        223140018        200328340   \n",
              "3          214072421        182159874        148177096        115228394   \n",
              "4          154369924        115414069         80624057         59290872   \n",
              "..               ...              ...              ...              ...   \n",
              "229             5138            10805            11452            11402   \n",
              "230             3080             2332             2240             2274   \n",
              "231             2074             2533             3637             5185   \n",
              "232             1666             1669             1647             1714   \n",
              "233              651              700              733              752   \n",
              "\n",
              "     area (km²)  density (km²) growth rate world percentage  \n",
              "0    3287590.00            481       0.81%           17.85%  \n",
              "1    9706961.00            151      -0.02%           17.81%  \n",
              "2    9372610.00             37       0.50%            4.25%  \n",
              "3    1904569.00            148       0.74%            3.47%  \n",
              "4     881912.00            312       1.98%            3.00%  \n",
              "..          ...            ...         ...              ...  \n",
              "229      102.00             43      -0.09%            0.00%  \n",
              "230    12173.00              0       0.29%            0.00%  \n",
              "231      261.00              7       0.05%            0.00%  \n",
              "232       12.00            189       1.18%            0.00%  \n",
              "233        0.44           1177       1.57%            0.00%  \n",
              "\n",
              "[234 rows x 17 columns]>"
            ],
            "text/html": [
              "<div style=\"max-width:800px; border: 1px solid var(--colab-border-color);\"><style>\n",
              "      pre.function-repr-contents {\n",
              "        overflow-x: auto;\n",
              "        padding: 8px 12px;\n",
              "        max-height: 500px;\n",
              "      }\n",
              "\n",
              "      pre.function-repr-contents.function-repr-contents-collapsed {\n",
              "        cursor: pointer;\n",
              "        max-height: 100px;\n",
              "      }\n",
              "    </style>\n",
              "    <pre style=\"white-space: initial; background:\n",
              "         var(--colab-secondary-surface-color); padding: 8px 12px;\n",
              "         border-bottom: 1px solid var(--colab-border-color);\"><b>pandas.core.frame.DataFrame.info</b><br/>def info(verbose: bool | None=None, buf: WriteBuffer[str] | None=None, max_cols: int | None=None, memory_usage: bool | str | None=None, show_counts: bool | None=None) -&gt; None</pre><pre class=\"function-repr-contents function-repr-contents-collapsed\" style=\"\"><a class=\"filepath\" style=\"display:none\" href=\"#\">/usr/local/lib/python3.11/dist-packages/pandas/core/frame.py</a>Print a concise summary of a DataFrame.\n",
              "\n",
              "This method prints information about a DataFrame including\n",
              "the index dtype and columns, non-null values and memory usage.\n",
              "\n",
              "Parameters\n",
              "----------\n",
              "verbose : bool, optional\n",
              "    Whether to print the full summary. By default, the setting in\n",
              "    ``pandas.options.display.max_info_columns`` is followed.\n",
              "buf : writable buffer, defaults to sys.stdout\n",
              "    Where to send the output. By default, the output is printed to\n",
              "    sys.stdout. Pass a writable buffer if you need to further process\n",
              "    the output.\n",
              "max_cols : int, optional\n",
              "    When to switch from the verbose to the truncated output. If the\n",
              "    DataFrame has more than `max_cols` columns, the truncated output\n",
              "    is used. By default, the setting in\n",
              "    ``pandas.options.display.max_info_columns`` is used.\n",
              "memory_usage : bool, str, optional\n",
              "    Specifies whether total memory usage of the DataFrame\n",
              "    elements (including the index) should be displayed. By default,\n",
              "    this follows the ``pandas.options.display.memory_usage`` setting.\n",
              "\n",
              "    True always show memory usage. False never shows memory usage.\n",
              "    A value of &#x27;deep&#x27; is equivalent to &quot;True with deep introspection&quot;.\n",
              "    Memory usage is shown in human-readable units (base-2\n",
              "    representation). Without deep introspection a memory estimation is\n",
              "    made based in column dtype and number of rows assuming values\n",
              "    consume the same memory amount for corresponding dtypes. With deep\n",
              "    memory introspection, a real memory usage calculation is performed\n",
              "    at the cost of computational resources. See the\n",
              "    :ref:`Frequently Asked Questions &lt;df-memory-usage&gt;` for more\n",
              "    details.\n",
              "show_counts : bool, optional\n",
              "    Whether to show the non-null counts. By default, this is shown\n",
              "    only if the DataFrame is smaller than\n",
              "    ``pandas.options.display.max_info_rows`` and\n",
              "    ``pandas.options.display.max_info_columns``. A value of True always\n",
              "    shows the counts, and False never shows the counts.\n",
              "\n",
              "Returns\n",
              "-------\n",
              "None\n",
              "    This method prints a summary of a DataFrame and returns None.\n",
              "\n",
              "See Also\n",
              "--------\n",
              "DataFrame.describe: Generate descriptive statistics of DataFrame\n",
              "    columns.\n",
              "DataFrame.memory_usage: Memory usage of DataFrame columns.\n",
              "\n",
              "Examples\n",
              "--------\n",
              "&gt;&gt;&gt; int_values = [1, 2, 3, 4, 5]\n",
              "&gt;&gt;&gt; text_values = [&#x27;alpha&#x27;, &#x27;beta&#x27;, &#x27;gamma&#x27;, &#x27;delta&#x27;, &#x27;epsilon&#x27;]\n",
              "&gt;&gt;&gt; float_values = [0.0, 0.25, 0.5, 0.75, 1.0]\n",
              "&gt;&gt;&gt; df = pd.DataFrame({&quot;int_col&quot;: int_values, &quot;text_col&quot;: text_values,\n",
              "...                   &quot;float_col&quot;: float_values})\n",
              "&gt;&gt;&gt; df\n",
              "    int_col text_col  float_col\n",
              "0        1    alpha       0.00\n",
              "1        2     beta       0.25\n",
              "2        3    gamma       0.50\n",
              "3        4    delta       0.75\n",
              "4        5  epsilon       1.00\n",
              "\n",
              "Prints information of all columns:\n",
              "\n",
              "&gt;&gt;&gt; df.info(verbose=True)\n",
              "&lt;class &#x27;pandas.core.frame.DataFrame&#x27;&gt;\n",
              "RangeIndex: 5 entries, 0 to 4\n",
              "Data columns (total 3 columns):\n",
              " #   Column     Non-Null Count  Dtype\n",
              "---  ------     --------------  -----\n",
              " 0   int_col    5 non-null      int64\n",
              " 1   text_col   5 non-null      object\n",
              " 2   float_col  5 non-null      float64\n",
              "dtypes: float64(1), int64(1), object(1)\n",
              "memory usage: 248.0+ bytes\n",
              "\n",
              "Prints a summary of columns count and its dtypes but not per column\n",
              "information:\n",
              "\n",
              "&gt;&gt;&gt; df.info(verbose=False)\n",
              "&lt;class &#x27;pandas.core.frame.DataFrame&#x27;&gt;\n",
              "RangeIndex: 5 entries, 0 to 4\n",
              "Columns: 3 entries, int_col to float_col\n",
              "dtypes: float64(1), int64(1), object(1)\n",
              "memory usage: 248.0+ bytes\n",
              "\n",
              "Pipe output of DataFrame.info to buffer instead of sys.stdout, get\n",
              "buffer content and writes to a text file:\n",
              "\n",
              "&gt;&gt;&gt; import io\n",
              "&gt;&gt;&gt; buffer = io.StringIO()\n",
              "&gt;&gt;&gt; df.info(buf=buffer)\n",
              "&gt;&gt;&gt; s = buffer.getvalue()\n",
              "&gt;&gt;&gt; with open(&quot;df_info.txt&quot;, &quot;w&quot;,\n",
              "...           encoding=&quot;utf-8&quot;) as f:  # doctest: +SKIP\n",
              "...     f.write(s)\n",
              "260\n",
              "\n",
              "The `memory_usage` parameter allows deep introspection mode, specially\n",
              "useful for big DataFrames and fine-tune memory optimization:\n",
              "\n",
              "&gt;&gt;&gt; random_strings_array = np.random.choice([&#x27;a&#x27;, &#x27;b&#x27;, &#x27;c&#x27;], 10 ** 6)\n",
              "&gt;&gt;&gt; df = pd.DataFrame({\n",
              "...     &#x27;column_1&#x27;: np.random.choice([&#x27;a&#x27;, &#x27;b&#x27;, &#x27;c&#x27;], 10 ** 6),\n",
              "...     &#x27;column_2&#x27;: np.random.choice([&#x27;a&#x27;, &#x27;b&#x27;, &#x27;c&#x27;], 10 ** 6),\n",
              "...     &#x27;column_3&#x27;: np.random.choice([&#x27;a&#x27;, &#x27;b&#x27;, &#x27;c&#x27;], 10 ** 6)\n",
              "... })\n",
              "&gt;&gt;&gt; df.info()\n",
              "&lt;class &#x27;pandas.core.frame.DataFrame&#x27;&gt;\n",
              "RangeIndex: 1000000 entries, 0 to 999999\n",
              "Data columns (total 3 columns):\n",
              " #   Column    Non-Null Count    Dtype\n",
              "---  ------    --------------    -----\n",
              " 0   column_1  1000000 non-null  object\n",
              " 1   column_2  1000000 non-null  object\n",
              " 2   column_3  1000000 non-null  object\n",
              "dtypes: object(3)\n",
              "memory usage: 22.9+ MB\n",
              "\n",
              "&gt;&gt;&gt; df.info(memory_usage=&#x27;deep&#x27;)\n",
              "&lt;class &#x27;pandas.core.frame.DataFrame&#x27;&gt;\n",
              "RangeIndex: 1000000 entries, 0 to 999999\n",
              "Data columns (total 3 columns):\n",
              " #   Column    Non-Null Count    Dtype\n",
              "---  ------    --------------    -----\n",
              " 0   column_1  1000000 non-null  object\n",
              " 1   column_2  1000000 non-null  object\n",
              " 2   column_3  1000000 non-null  object\n",
              "dtypes: object(3)\n",
              "memory usage: 165.9 MB</pre>\n",
              "      <script>\n",
              "      if (google.colab.kernel.accessAllowed && google.colab.files && google.colab.files.view) {\n",
              "        for (const element of document.querySelectorAll('.filepath')) {\n",
              "          element.style.display = 'block'\n",
              "          element.onclick = (event) => {\n",
              "            event.preventDefault();\n",
              "            event.stopPropagation();\n",
              "            google.colab.files.view(element.textContent, 3646);\n",
              "          };\n",
              "        }\n",
              "      }\n",
              "      for (const element of document.querySelectorAll('.function-repr-contents')) {\n",
              "        element.onclick = (event) => {\n",
              "          event.preventDefault();\n",
              "          event.stopPropagation();\n",
              "          element.classList.toggle('function-repr-contents-collapsed');\n",
              "        };\n",
              "      }\n",
              "      </script>\n",
              "      </div>"
            ]
          },
          "metadata": {},
          "execution_count": 36
        }
      ]
    },
    {
      "cell_type": "markdown",
      "source": [
        "checking duplicate values"
      ],
      "metadata": {
        "id": "A6b-FjBXIqP5"
      }
    },
    {
      "cell_type": "code",
      "source": [
        "df.duplicated().sum()"
      ],
      "metadata": {
        "colab": {
          "base_uri": "https://localhost:8080/"
        },
        "id": "g_ZVCEugGEpE",
        "outputId": "5ea68be2-16ea-494a-97d0-ebf11fa93093"
      },
      "execution_count": null,
      "outputs": [
        {
          "output_type": "execute_result",
          "data": {
            "text/plain": [
              "np.int64(0)"
            ]
          },
          "metadata": {},
          "execution_count": 37
        }
      ]
    },
    {
      "cell_type": "markdown",
      "source": [
        "checking for missing values\n"
      ],
      "metadata": {
        "id": "E8ID99QFLO5Y"
      }
    },
    {
      "cell_type": "code",
      "source": [
        "df.isna().sum()"
      ],
      "metadata": {
        "colab": {
          "base_uri": "https://localhost:8080/",
          "height": 637
        },
        "id": "RD_uflxbGEr5",
        "outputId": "126234fb-6eeb-4a32-c448-f105daa1f75a"
      },
      "execution_count": null,
      "outputs": [
        {
          "output_type": "execute_result",
          "data": {
            "text/plain": [
              "rank                0\n",
              "cca3                0\n",
              "country             0\n",
              "continent           0\n",
              "2023 population     0\n",
              "2022 population     0\n",
              "2020 population     0\n",
              "2015 population     0\n",
              "2010 population     0\n",
              "2000 population     0\n",
              "1990 population     0\n",
              "1980 population     0\n",
              "1970 population     0\n",
              "area (km²)          0\n",
              "density (km²)       0\n",
              "growth rate         0\n",
              "world percentage    0\n",
              "dtype: int64"
            ],
            "text/html": [
              "<div>\n",
              "<style scoped>\n",
              "    .dataframe tbody tr th:only-of-type {\n",
              "        vertical-align: middle;\n",
              "    }\n",
              "\n",
              "    .dataframe tbody tr th {\n",
              "        vertical-align: top;\n",
              "    }\n",
              "\n",
              "    .dataframe thead th {\n",
              "        text-align: right;\n",
              "    }\n",
              "</style>\n",
              "<table border=\"1\" class=\"dataframe\">\n",
              "  <thead>\n",
              "    <tr style=\"text-align: right;\">\n",
              "      <th></th>\n",
              "      <th>0</th>\n",
              "    </tr>\n",
              "  </thead>\n",
              "  <tbody>\n",
              "    <tr>\n",
              "      <th>rank</th>\n",
              "      <td>0</td>\n",
              "    </tr>\n",
              "    <tr>\n",
              "      <th>cca3</th>\n",
              "      <td>0</td>\n",
              "    </tr>\n",
              "    <tr>\n",
              "      <th>country</th>\n",
              "      <td>0</td>\n",
              "    </tr>\n",
              "    <tr>\n",
              "      <th>continent</th>\n",
              "      <td>0</td>\n",
              "    </tr>\n",
              "    <tr>\n",
              "      <th>2023 population</th>\n",
              "      <td>0</td>\n",
              "    </tr>\n",
              "    <tr>\n",
              "      <th>2022 population</th>\n",
              "      <td>0</td>\n",
              "    </tr>\n",
              "    <tr>\n",
              "      <th>2020 population</th>\n",
              "      <td>0</td>\n",
              "    </tr>\n",
              "    <tr>\n",
              "      <th>2015 population</th>\n",
              "      <td>0</td>\n",
              "    </tr>\n",
              "    <tr>\n",
              "      <th>2010 population</th>\n",
              "      <td>0</td>\n",
              "    </tr>\n",
              "    <tr>\n",
              "      <th>2000 population</th>\n",
              "      <td>0</td>\n",
              "    </tr>\n",
              "    <tr>\n",
              "      <th>1990 population</th>\n",
              "      <td>0</td>\n",
              "    </tr>\n",
              "    <tr>\n",
              "      <th>1980 population</th>\n",
              "      <td>0</td>\n",
              "    </tr>\n",
              "    <tr>\n",
              "      <th>1970 population</th>\n",
              "      <td>0</td>\n",
              "    </tr>\n",
              "    <tr>\n",
              "      <th>area (km²)</th>\n",
              "      <td>0</td>\n",
              "    </tr>\n",
              "    <tr>\n",
              "      <th>density (km²)</th>\n",
              "      <td>0</td>\n",
              "    </tr>\n",
              "    <tr>\n",
              "      <th>growth rate</th>\n",
              "      <td>0</td>\n",
              "    </tr>\n",
              "    <tr>\n",
              "      <th>world percentage</th>\n",
              "      <td>0</td>\n",
              "    </tr>\n",
              "  </tbody>\n",
              "</table>\n",
              "</div><br><label><b>dtype:</b> int64</label>"
            ]
          },
          "metadata": {},
          "execution_count": 38
        }
      ]
    },
    {
      "cell_type": "markdown",
      "source": [
        "checking for unique values for columns"
      ],
      "metadata": {
        "id": "5fI3ll5oLTQz"
      }
    },
    {
      "cell_type": "code",
      "source": [
        "for col in df.columns:\n",
        "    unique_vals = df[col].unique()\n",
        "    print(f\"\\nColumn: {col}\")\n",
        "    print(f\"Number of unique values: {df[col].nunique()}\")\n",
        "    print(f\"Unique values (first 10): {unique_vals[:10]}\")"
      ],
      "metadata": {
        "colab": {
          "base_uri": "https://localhost:8080/"
        },
        "id": "wRxfGrJeGEu1",
        "outputId": "279c0855-c8da-44c6-932d-72f0b8a1ad1d"
      },
      "execution_count": null,
      "outputs": [
        {
          "output_type": "stream",
          "name": "stdout",
          "text": [
            "\n",
            "Column: rank\n",
            "Number of unique values: 234\n",
            "Unique values (first 10): [ 1  2  3  4  5  6  7  8  9 10]\n",
            "\n",
            "Column: cca3\n",
            "Number of unique values: 234\n",
            "Unique values (first 10): ['IND' 'CHN' 'USA' 'IDN' 'PAK' 'NGA' 'BRA' 'BGD' 'RUS' 'MEX']\n",
            "\n",
            "Column: country\n",
            "Number of unique values: 234\n",
            "Unique values (first 10): ['India' 'China' 'United States' 'Indonesia' 'Pakistan' 'Nigeria' 'Brazil'\n",
            " 'Bangladesh' 'Russia' 'Mexico']\n",
            "\n",
            "Column: continent\n",
            "Number of unique values: 6\n",
            "Unique values (first 10): ['Asia' 'North America' 'Africa' 'South America' 'Europe' 'Oceania']\n",
            "\n",
            "Column: 2023 population\n",
            "Number of unique values: 234\n",
            "Unique values (first 10): [1428627663 1425671352  339996563  277534122  240485658  223804632\n",
            "  216422446  172954319  144444359  128455567]\n",
            "\n",
            "Column: 2022 population\n",
            "Number of unique values: 234\n",
            "Unique values (first 10): [1417173173 1425887337  338289857  275501339  235824862  218541212\n",
            "  215313498  171186372  144713314  127504125]\n",
            "\n",
            "Column: 2020 population\n",
            "Number of unique values: 234\n",
            "Unique values (first 10): [1396387127 1424929781  335942003  271857970  227196741  208327405\n",
            "  213196304  167420951  145617329  125998302]\n",
            "\n",
            "Column: 2015 population\n",
            "Number of unique values: 234\n",
            "Unique values (first 10): [1322866505 1393715448  324607776  259091970  210969298  183995785\n",
            "  205188205  157830000  144668389  120149897]\n",
            "\n",
            "Column: 2010 population\n",
            "Number of unique values: 234\n",
            "Unique values (first 10): [1240613620 1348191368  311182845  244016173  194454498  160952853\n",
            "  196353492  148391139  143242599  112532401]\n",
            "\n",
            "Column: 2000 population\n",
            "Number of unique values: 234\n",
            "Unique values (first 10): [1059633675 1264099069  282398554  214072421  154369924  122851984\n",
            "  175873720  129193327  146844839   97873442]\n",
            "\n",
            "Column: 1990 population\n",
            "Number of unique values: 234\n",
            "Unique values (first 10): [ 870452165 1153704252  248083732  182159874  115414069   95214257\n",
            "  150706446  107147651  148005704   81720428]\n",
            "\n",
            "Column: 1980 population\n",
            "Number of unique values: 234\n",
            "Unique values (first 10): [696828385 982372466 223140018 148177096  80624057  72951439 122288383\n",
            "  83929765 138257420  67705186]\n",
            "\n",
            "Column: 1970 population\n",
            "Number of unique values: 234\n",
            "Unique values (first 10): [557501301 822534450 200328340 115228394  59290872  55569264  96369875\n",
            "  67541860 130093010  50289306]\n",
            "\n",
            "Column: area (km²)\n",
            "Number of unique values: 232\n",
            "Unique values (first 10): [ 3287590.  9706961.  9372610.  1904569.   881912.   923768.  8515767.\n",
            "   147570. 17098242.  1964375.]\n",
            "\n",
            "Column: density (km²)\n",
            "Number of unique values: 167\n",
            "Unique values (first 10): [ 481  151   37  148  312  246   26 1329    9   66]\n",
            "\n",
            "Column: growth rate\n",
            "Number of unique values: 176\n",
            "Unique values (first 10): ['0.81%' '-0.02%' '0.50%' '0.74%' '1.98%' '2.41%' '0.52%' '1.03%' '-0.19%'\n",
            " '0.75%']\n",
            "\n",
            "Column: world percentage\n",
            "Number of unique values: 73\n",
            "Unique values (first 10): ['17.85%' '17.81%' '4.25%' '3.47%' '3.00%' '2.80%' '2.70%' '2.16%' '1.80%'\n",
            " '1.60%']\n"
          ]
        }
      ]
    },
    {
      "cell_type": "markdown",
      "source": [
        "Histogram and Bar plot"
      ],
      "metadata": {
        "id": "0iE2Rwg4N121"
      }
    },
    {
      "cell_type": "code",
      "source": [
        "column_name = 'rank'\n",
        "\n",
        "if df[column_name].dtype == 'object' or df[column_name].nunique() < 20:\n",
        "    plt.figure(figsize=(10, 6))\n",
        "    sns.countplot(data=df, x=column_name, palette='Set2')\n",
        "    plt.title(f'Distribution of {column_name}')\n",
        "    plt.xlabel(column_name)\n",
        "    plt.ylabel('Count')\n",
        "else:\n",
        "    plt.figure(figsize=(10, 6))\n",
        "    sns.histplot(df[column_name], bins=20, kde=True, color='skyblue')\n",
        "    plt.title(f'Distribution of {column_name}')\n",
        "    plt.xlabel(column_name)\n",
        "    plt.ylabel('Frequency')\n",
        "\n",
        "plt.xticks(rotation=45)\n",
        "plt.tight_layout()\n",
        "plt.grid(True)\n",
        "plt.show()"
      ],
      "metadata": {
        "colab": {
          "base_uri": "https://localhost:8080/",
          "height": 555
        },
        "id": "47HUJ4MpGE0U",
        "outputId": "0aec4717-2357-4004-9881-5bfe31d0bb2a"
      },
      "execution_count": null,
      "outputs": [
        {
          "output_type": "display_data",
          "data": {
            "text/plain": [
              "<Figure size 1000x600 with 1 Axes>"
            ],
            "image/png": "[encoded data removed]"
          },
          "metadata": {}
        }
      ]
    },
    {
      "cell_type": "markdown",
      "source": [
        "Extraction of top 10 countries respect to total population"
      ],
      "metadata": {
        "id": "d2eQ60kSOqcb"
      }
    },
    {
      "cell_type": "code",
      "source": [
        "print(df.columns)\n",
        "top_10 = df[['rank', 'country']].sort_values(by='country', ascending=False).head(10)\n",
        "print(\"Top 10 countries by total population:\")\n",
        "print(top_10)"
      ],
      "metadata": {
        "colab": {
          "base_uri": "https://localhost:8080/"
        },
        "id": "U-Tpzd-gNw86",
        "outputId": "ec61be45-12d3-4ec0-f3fd-5abd4bb5fd6e"
      },
      "execution_count": null,
      "outputs": [
        {
          "output_type": "stream",
          "name": "stdout",
          "text": [
            "Index(['rank', 'cca3', 'country', 'continent', '2023 population',\n",
            "       '2022 population', '2020 population', '2015 population',\n",
            "       '2010 population', '2000 population', '1990 population',\n",
            "       '1980 population', '1970 population', 'area (km²)', 'density (km²)',\n",
            "       'growth rate', 'world percentage'],\n",
            "      dtype='object')\n",
            "Top 10 countries by total population:\n",
            "     rank            country\n",
            "73     74           Zimbabwe\n",
            "62     63             Zambia\n",
            "43     44              Yemen\n",
            "171   172     Western Sahara\n",
            "225   226  Wallis and Futuna\n",
            "15     16            Vietnam\n",
            "51     52          Venezuela\n",
            "233   234       Vatican City\n",
            "181   182            Vanuatu\n",
            "42     43         Uzbekistan\n"
          ]
        }
      ]
    },
    {
      "cell_type": "markdown",
      "source": [
        "Top 10 countries  of total popultion in 2022 and 2016"
      ],
      "metadata": {
        "id": "gA9mQVlFPv2b"
      }
    },
    {
      "cell_type": "code",
      "source": [
        "if df['rank'].dtype == 'object':\n",
        "    df['rank'] = df['rank'].str.replace(',', '').astype(float)\n",
        "df_filtered = df[df['country'].isin([2022, 2016])]\n",
        "top_10_2022 = df_filtered[df_filtered['country'] == 2022].sort_values(by='rank', ascending=False).head(10)\n",
        "top_10_2016 = df_filtered[df_filtered['country'] == 2016].sort_values(by='rank', ascending=False).head(10)\n",
        "print(\"Top 10 Countries by Population in 2022:\")\n",
        "print(top_10_2022[['rank', 'country']])\n",
        "print(\"\\nTop 10 Countries by Population in 2016:\")\n",
        "print(top_10_2016[['rank', 'country']])"
      ],
      "metadata": {
        "colab": {
          "base_uri": "https://localhost:8080/"
        },
        "id": "XI4mWhmMGE29",
        "outputId": "9a44ddab-9297-4057-97d6-d4ef012e4e47"
      },
      "execution_count": null,
      "outputs": [
        {
          "output_type": "stream",
          "name": "stdout",
          "text": [
            "Top 10 Countries by Population in 2022:\n",
            "Empty DataFrame\n",
            "Columns: [rank, country]\n",
            "Index: []\n",
            "\n",
            "Top 10 Countries by Population in 2016:\n",
            "Empty DataFrame\n",
            "Columns: [rank, country]\n",
            "Index: []\n"
          ]
        }
      ]
    },
    {
      "cell_type": "markdown",
      "source": [
        "Top ten countries with rank and  population in 2022\n",
        "\n",
        "\n"
      ],
      "metadata": {
        "id": "0Eb15R9Rhvrc"
      }
    },
    {
      "cell_type": "code",
      "source": [
        "import matplotlib.pyplot as plt\n",
        "import seaborn as sns\n",
        "import pandas as pd\n",
        "\n",
        "plt.figure(figsize=(14, 6))\n",
        "rank_plot_data = df.sort_values(by='rank', ascending=True).head(10)\n",
        "plt.subplot(1, 2, 1)\n",
        "sns.barplot(x='rank', y='country', data=rank_plot_data, palette='Blues_d')\n",
        "plt.title('Top 10 Countries by Rank (Overall)') # Adjusted title as it's overall rank\n",
        "plt.xlabel('Rank')\n",
        "plt.ylabel('Country')\n"
      ],
      "metadata": {
        "colab": {
          "base_uri": "https://localhost:8080/",
          "height": 691
        },
        "id": "XAsRJlfdhvP9",
        "outputId": "88c2c08d-8f82-4984-f234-68769ba44741"
      },
      "execution_count": null,
      "outputs": [
        {
          "output_type": "stream",
          "name": "stderr",
          "text": [
            "<ipython-input-43-634108536>:8: FutureWarning: \n",
            "\n",
            "Passing `palette` without assigning `hue` is deprecated and will be removed in v0.14.0. Assign the `y` variable to `hue` and set `legend=False` for the same effect.\n",
            "\n",
            "  sns.barplot(x='rank', y='country', data=rank_plot_data, palette='Blues_d')\n"
          ]
        },
        {
          "output_type": "execute_result",
          "data": {
            "text/plain": [
              "Text(0, 0.5, 'Country')"
            ]
          },
          "metadata": {},
          "execution_count": 43
        },
        {
          "output_type": "display_data",
          "data": {
            "text/plain": [
              "<Figure size 1400x600 with 1 Axes>"
            ],
            "image/png": "[encoded data removed]"
          },
          "metadata": {}
        }
      ]
    },
    {
      "cell_type": "code",
      "source": [],
      "metadata": {
        "id": "RwVeSp8thvJL"
      },
      "execution_count": null,
      "outputs": []
    }
  ]
}